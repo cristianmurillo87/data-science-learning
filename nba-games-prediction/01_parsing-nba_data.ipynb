{
 "cells": [
  {
   "attachments": {},
   "cell_type": "markdown",
   "metadata": {},
   "source": [
    "## Creating a Pandas DataFrame from the Downloaded Data"
   ]
  },
  {
   "cell_type": "code",
   "execution_count": 3,
   "metadata": {},
   "outputs": [],
   "source": [
    "import os \n",
    "import pandas as pd\n",
    "from bs4 import BeautifulSoup\n",
    "from glob import glob"
   ]
  },
  {
   "cell_type": "code",
   "execution_count": 7,
   "metadata": {},
   "outputs": [],
   "source": [
    "SCORES_DIR = 'data/scores'\n",
    "box_scores = glob(f'{SCORES_DIR}/*.html')"
   ]
  },
  {
   "cell_type": "code",
   "execution_count": 8,
   "metadata": {},
   "outputs": [
    {
     "data": {
      "text/plain": [
       "2631"
      ]
     },
     "execution_count": 8,
     "metadata": {},
     "output_type": "execute_result"
    }
   ],
   "source": [
    "len(box_scores)"
   ]
  },
  {
   "cell_type": "code",
   "execution_count": 11,
   "metadata": {},
   "outputs": [],
   "source": [
    "def parse_html(box_score):\n",
    "  with open(box_score) as f:\n",
    "    html = f.read()\n",
    "  \n",
    "  soup = BeautifulSoup(html)\n",
    "  # remove tr.over_header and tr.over_header selected elements\n",
    "  [s.decompose() for s in soup.select('tr.over_header')]\n",
    "  [s.decompose() for s in soup.select('tr.thead')]\n",
    "  return soup"
   ]
  },
  {
   "cell_type": "code",
   "execution_count": 13,
   "metadata": {},
   "outputs": [],
   "source": [
    "def read_line_score(soup: BeautifulSoup):\n",
    "  line_score = pd.read_html(str(soup), attrs={'id': 'line_score'})[0]\n",
    "  cols = list(line_score.columns)\n",
    "  cols[0] = 'team'\n",
    "  cols[-1] = 'total'\n",
    "  line_score.columns = cols\n",
    "\n",
    "  line_score = line_score[['team', 'total']]\n",
    "  return line_score"
   ]
  },
  {
   "cell_type": "code",
   "execution_count": 17,
   "metadata": {},
   "outputs": [],
   "source": [
    "def read_stats(soup: BeautifulSoup, team: str, stat: str) -> pd.DataFrame:\n",
    "  df = pd.read_html(str(soup), attrs={'id': f'box-{team}-game-{stat}'}, index_col=0)[0]\n",
    "  df = df.apply(pd.to_numeric, errors='coerce')\n",
    "  return df"
   ]
  },
  {
   "cell_type": "code",
   "execution_count": 47,
   "metadata": {},
   "outputs": [],
   "source": [
    "def read_season_info(soup: BeautifulSoup):\n",
    "  nav = soup.select('#bottom_nav_container')[0]\n",
    "  hrefs = [a['href'] for a in nav.find_all('a')]\n",
    "  season = os.path.basename(hrefs[1]).split('_')[0]\n",
    "  return season"
   ]
  },
  {
   "cell_type": "code",
   "execution_count": 51,
   "metadata": {},
   "outputs": [],
   "source": [
    "base_cols = None\n",
    "games = []\n",
    "\n",
    "for box_score in box_scores:\n",
    "  soup = parse_html(box_score)\n",
    "  line_score = read_line_score(soup)\n",
    "  teams = list(line_score['team'])\n",
    "\n",
    "  summaries = []\n",
    "  for team in teams:\n",
    "    basic = read_stats(soup, team, 'basic')\n",
    "    advanced = read_stats(soup, team, 'advanced')\n",
    "\n",
    "    totals = pd.concat([basic.iloc[-1, :], advanced.iloc[-1, :]])\n",
    "    totals.index = totals.index.str.lower()\n",
    "\n",
    "    maxes = pd.concat([basic.iloc[:-1, :].max(), advanced.iloc[:-1, :].max()])\n",
    "    maxes.index = maxes.index.str.lower() + '_max'\n",
    "\n",
    "    summary = pd.concat([totals, maxes])\n",
    "\n",
    "    if base_cols is None:\n",
    "      base_cols = list(summary.index.drop_duplicates(keep='first'))\n",
    "      base_cols = [b for b in base_cols if 'bpm' not in b]\n",
    "    \n",
    "    summary = summary[base_cols]\n",
    "    summaries.append(summary)\n",
    "  summary = pd.concat(summaries, axis=1).T\n",
    "  game = pd.concat([summary, line_score], axis=1)\n",
    "  game['home'] = [0, 1]\n",
    "  game_opp = game.iloc[::-1].reset_index()\n",
    "  game_opp.columns += '_opp'\n",
    "\n",
    "  full_game = pd.concat([game, game_opp], axis=1)\n",
    "  full_game['season'] = read_season_info(soup)\n",
    "  full_game['date'] = os.path.basename(box_score)[:8]\n",
    "  full_game['date'] = pd.to_datetime(full_game['date'], format='%Y%m%d')\n",
    "\n",
    "  full_game['won'] = full_game['total'] > full_game['total_opp']\n",
    "  games.append(full_game)\n",
    "\n",
    "  if len(games) % 100 == 0:\n",
    "    print(f'{len(games)} / {len(box_scores)}')"
   ]
  },
  {
   "cell_type": "code",
   "execution_count": 52,
   "metadata": {},
   "outputs": [
    {
     "data": {
      "text/html": [
       "<div>\n",
       "<style scoped>\n",
       "    .dataframe tbody tr th:only-of-type {\n",
       "        vertical-align: middle;\n",
       "    }\n",
       "\n",
       "    .dataframe tbody tr th {\n",
       "        vertical-align: top;\n",
       "    }\n",
       "\n",
       "    .dataframe thead th {\n",
       "        text-align: right;\n",
       "    }\n",
       "</style>\n",
       "<table border=\"1\" class=\"dataframe\">\n",
       "  <thead>\n",
       "    <tr style=\"text-align: right;\">\n",
       "      <th></th>\n",
       "      <th>mp</th>\n",
       "      <th>mp</th>\n",
       "      <th>fg</th>\n",
       "      <th>fga</th>\n",
       "      <th>fg%</th>\n",
       "      <th>3p</th>\n",
       "      <th>3pa</th>\n",
       "      <th>3p%</th>\n",
       "      <th>ft</th>\n",
       "      <th>fta</th>\n",
       "      <th>...</th>\n",
       "      <th>tov%_max_opp</th>\n",
       "      <th>usg%_max_opp</th>\n",
       "      <th>ortg_max_opp</th>\n",
       "      <th>drtg_max_opp</th>\n",
       "      <th>team_opp</th>\n",
       "      <th>total_opp</th>\n",
       "      <th>home_opp</th>\n",
       "      <th>season</th>\n",
       "      <th>date</th>\n",
       "      <th>won</th>\n",
       "    </tr>\n",
       "  </thead>\n",
       "  <tbody>\n",
       "    <tr>\n",
       "      <th>0</th>\n",
       "      <td>265.0</td>\n",
       "      <td>265.0</td>\n",
       "      <td>36.0</td>\n",
       "      <td>87.0</td>\n",
       "      <td>0.414</td>\n",
       "      <td>11.0</td>\n",
       "      <td>34.0</td>\n",
       "      <td>0.324</td>\n",
       "      <td>31.0</td>\n",
       "      <td>41.0</td>\n",
       "      <td>...</td>\n",
       "      <td>66.7</td>\n",
       "      <td>32.3</td>\n",
       "      <td>187.0</td>\n",
       "      <td>122.0</td>\n",
       "      <td>UTA</td>\n",
       "      <td>117</td>\n",
       "      <td>1</td>\n",
       "      <td>2016</td>\n",
       "      <td>2016-02-23</td>\n",
       "      <td>False</td>\n",
       "    </tr>\n",
       "    <tr>\n",
       "      <th>1</th>\n",
       "      <td>265.0</td>\n",
       "      <td>265.0</td>\n",
       "      <td>38.0</td>\n",
       "      <td>74.0</td>\n",
       "      <td>0.514</td>\n",
       "      <td>10.0</td>\n",
       "      <td>24.0</td>\n",
       "      <td>0.417</td>\n",
       "      <td>31.0</td>\n",
       "      <td>38.0</td>\n",
       "      <td>...</td>\n",
       "      <td>30.0</td>\n",
       "      <td>39.9</td>\n",
       "      <td>155.0</td>\n",
       "      <td>126.0</td>\n",
       "      <td>HOU</td>\n",
       "      <td>114</td>\n",
       "      <td>0</td>\n",
       "      <td>2016</td>\n",
       "      <td>2016-02-23</td>\n",
       "      <td>True</td>\n",
       "    </tr>\n",
       "  </tbody>\n",
       "</table>\n",
       "<p>2 rows × 150 columns</p>\n",
       "</div>"
      ],
      "text/plain": [
       "      mp     mp    fg   fga    fg%    3p   3pa    3p%    ft   fta  ...  \\\n",
       "0  265.0  265.0  36.0  87.0  0.414  11.0  34.0  0.324  31.0  41.0  ...   \n",
       "1  265.0  265.0  38.0  74.0  0.514  10.0  24.0  0.417  31.0  38.0  ...   \n",
       "\n",
       "   tov%_max_opp  usg%_max_opp  ortg_max_opp  drtg_max_opp  team_opp  \\\n",
       "0          66.7          32.3         187.0         122.0       UTA   \n",
       "1          30.0          39.9         155.0         126.0       HOU   \n",
       "\n",
       "   total_opp  home_opp  season       date    won  \n",
       "0        117         1    2016 2016-02-23  False  \n",
       "1        114         0    2016 2016-02-23   True  \n",
       "\n",
       "[2 rows x 150 columns]"
      ]
     },
     "execution_count": 52,
     "metadata": {},
     "output_type": "execute_result"
    }
   ],
   "source": [
    "full_game"
   ]
  },
  {
   "cell_type": "code",
   "execution_count": null,
   "metadata": {},
   "outputs": [],
   "source": []
  }
 ],
 "metadata": {
  "kernelspec": {
   "display_name": "data_science",
   "language": "python",
   "name": "python3"
  },
  "language_info": {
   "codemirror_mode": {
    "name": "ipython",
    "version": 3
   },
   "file_extension": ".py",
   "mimetype": "text/x-python",
   "name": "python",
   "nbconvert_exporter": "python",
   "pygments_lexer": "ipython3",
   "version": "3.11.0"
  },
  "orig_nbformat": 4,
  "vscode": {
   "interpreter": {
    "hash": "b0d8c840c2874a0d1fce2d308f1225c797f66b2c6e3864cd854a402181f2caba"
   }
  }
 },
 "nbformat": 4,
 "nbformat_minor": 2
}
